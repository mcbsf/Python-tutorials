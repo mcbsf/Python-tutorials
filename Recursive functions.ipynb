{
 "cells": [
  {
   "cell_type": "markdown",
   "metadata": {},
   "source": [
    "# Recursive Functions"
   ]
  },
  {
   "cell_type": "markdown",
   "metadata": {},
   "source": [
    "### Recursive way"
   ]
  },
  {
   "cell_type": "code",
   "execution_count": 1,
   "metadata": {},
   "outputs": [],
   "source": [
    "def recursive_multiplication(number, factor):\n",
    "    if(factor == 1):\n",
    "        return number\n",
    "    else:\n",
    "        return number + recursive_multiplication(number, factor-1)\n",
    "    "
   ]
  },
  {
   "cell_type": "markdown",
   "metadata": {},
   "source": [
    "### Imperative way"
   ]
  },
  {
   "cell_type": "code",
   "execution_count": 2,
   "metadata": {},
   "outputs": [],
   "source": [
    "def imperative_multiplication(number, factor):\n",
    "    result = 0\n",
    "    for i in range(0, factor):\n",
    "        result = result+number\n",
    "    return result"
   ]
  },
  {
   "cell_type": "markdown",
   "metadata": {},
   "source": [
    "### Result comparision"
   ]
  },
  {
   "cell_type": "code",
   "execution_count": 3,
   "metadata": {},
   "outputs": [
    {
     "data": {
      "text/plain": [
       "12"
      ]
     },
     "execution_count": 3,
     "metadata": {},
     "output_type": "execute_result"
    }
   ],
   "source": [
    "recursive_multiplication(4, 3)"
   ]
  },
  {
   "cell_type": "code",
   "execution_count": 4,
   "metadata": {},
   "outputs": [
    {
     "data": {
      "text/plain": [
       "12"
      ]
     },
     "execution_count": 4,
     "metadata": {},
     "output_type": "execute_result"
    }
   ],
   "source": [
    "imperative_multiplication(4,3)"
   ]
  },
  {
   "cell_type": "markdown",
   "metadata": {},
   "source": [
    "### Exercise 1)\n",
    "\n",
    "#### Do you know fibonacci? the fibonacci sequence is the sequence of numbers 1, 1, 2, 3, 5, 8, 13... given that the first number of the sequence is the \"1\" on the left, the third is \"2\", the fifth is \"5\" create a function called \"fibo\" that, given a number N, returns the Nth number of fibonacci sequence. Exemple: fibo(3) returns number 5. create the same function in recusrive and imperative way. "
   ]
  },
  {
   "cell_type": "markdown",
   "metadata": {},
   "source": [
    " \n"
   ]
  },
  {
   "cell_type": "markdown",
   "metadata": {},
   "source": [
    "# Class Definition\n",
    "## defining what is a rectangle\n",
    "\n",
    "### the __init__ function is a pythons differente function wich creates the object, its called the constructor of the class.\n",
    "\n",
    "### there are 2 other functions, get_lengths wich return a dictionary with the setted lengths and set_width, wich set the width with the parameter in function\n",
    "\n",
    "\n",
    "#### to learn more about the basics of classes, u can see these other examples and explenation in W3Schools, one of the bests free web tutorials with exemples  https://www.w3schools.com/python/python_classes.asp"
   ]
  },
  {
   "cell_type": "code",
   "execution_count": 5,
   "metadata": {},
   "outputs": [],
   "source": [
    "class Rectangle:\n",
    "    \n",
    "    def __init__(self, width, heigth):\n",
    "        self.width = width\n",
    "        self.heigth = heigth\n",
    "        \n",
    "    def get_lengths(self):\n",
    "        return {\n",
    "            'width': self.width,\n",
    "            'heigth': self.heigth\n",
    "        }\n",
    "    def set_width(self, value):\n",
    "        self.width = value\n",
    "    \n"
   ]
  },
  {
   "cell_type": "markdown",
   "metadata": {},
   "source": [
    "## creating a rectangle"
   ]
  },
  {
   "cell_type": "code",
   "execution_count": 6,
   "metadata": {},
   "outputs": [],
   "source": [
    "first_rectangle = Rectangle(3, 5)"
   ]
  },
  {
   "cell_type": "markdown",
   "metadata": {},
   "source": [
    "### getting length, setting and getting again to check the workflow"
   ]
  },
  {
   "cell_type": "code",
   "execution_count": 7,
   "metadata": {},
   "outputs": [
    {
     "data": {
      "text/plain": [
       "{'width': 3, 'heigth': 5}"
      ]
     },
     "execution_count": 7,
     "metadata": {},
     "output_type": "execute_result"
    }
   ],
   "source": [
    "first_rectangle.get_lengths()"
   ]
  },
  {
   "cell_type": "code",
   "execution_count": 8,
   "metadata": {},
   "outputs": [],
   "source": [
    "first_rectangle.set_width(4)"
   ]
  },
  {
   "cell_type": "code",
   "execution_count": 9,
   "metadata": {},
   "outputs": [
    {
     "data": {
      "text/plain": [
       "{'width': 4, 'heigth': 5}"
      ]
     },
     "execution_count": 9,
     "metadata": {},
     "output_type": "execute_result"
    }
   ],
   "source": [
    "first_rectangle.get_lengths()"
   ]
  },
  {
   "cell_type": "markdown",
   "metadata": {},
   "source": [
    "# Data Storage Structure: Lists\n",
    "\n",
    "## defining a list of numbers"
   ]
  },
  {
   "cell_type": "code",
   "execution_count": 10,
   "metadata": {},
   "outputs": [],
   "source": [
    "class NumberList:\n",
    "    \n",
    "    def __init__(self):\n",
    "        \n",
    "        self.value = None\n",
    "        self.number_list = None\n",
    "    \n",
    "    \n",
    "    def push(self, value):\n",
    "        \n",
    "        if(self.value):\n",
    "            \n",
    "            if(not self.number_list):\n",
    "                self.number_list = NumberList()\n",
    "            \n",
    "            self.number_list.push(value)\n",
    "                \n",
    "        else:\n",
    "            self.value = value\n",
    "    \n",
    "    \n",
    "    def get_values(self, index = 1):\n",
    "        if(self.value):\n",
    "            if(self.number_list):\n",
    "                #putting elements separated with \"\\n\" to jump line when print to have a better vizualization\n",
    "                return '\\n' + 'index: '+ str(index) + '\\n' + \"value: \" + str(self.value) + \" \\n\\n\" + self.number_list.get_values(index + 1)\n",
    "            else:\n",
    "                return \"index: \"+ str(index) + \"\\n\" + \"value: \" + str(self.value)\n",
    "            \n",
    "        else:\n",
    "            return \"\"\n",
    "\n",
    "    def pop(self):\n",
    "        \n",
    "        answer = self.value\n",
    "    \n",
    "        if(self.number_list):\n",
    "            self.value = self.number_list.value\n",
    "            self.number_list.pop()\n",
    "        else:\n",
    "            self.value = None\n",
    "            \n",
    "        return answer\n",
    "            \n",
    "    "
   ]
  },
  {
   "cell_type": "markdown",
   "metadata": {},
   "source": [
    "### creating my first list"
   ]
  },
  {
   "cell_type": "code",
   "execution_count": 11,
   "metadata": {},
   "outputs": [],
   "source": [
    "first_list = NumberList()"
   ]
  },
  {
   "cell_type": "markdown",
   "metadata": {},
   "source": [
    "\n",
    "### adding and removing elements, while getting the list values to understand the workflow"
   ]
  },
  {
   "cell_type": "code",
   "execution_count": 12,
   "metadata": {},
   "outputs": [
    {
     "name": "stdout",
     "output_type": "stream",
     "text": [
      "\n"
     ]
    }
   ],
   "source": [
    "print(first_list.get_values())"
   ]
  },
  {
   "cell_type": "code",
   "execution_count": 13,
   "metadata": {},
   "outputs": [],
   "source": [
    "first_list.push(3)"
   ]
  },
  {
   "cell_type": "code",
   "execution_count": 14,
   "metadata": {},
   "outputs": [
    {
     "name": "stdout",
     "output_type": "stream",
     "text": [
      "index: 1\n",
      "value: 3\n"
     ]
    }
   ],
   "source": [
    "print(first_list.get_values())"
   ]
  },
  {
   "cell_type": "code",
   "execution_count": 15,
   "metadata": {},
   "outputs": [],
   "source": [
    "first_list.push(4)"
   ]
  },
  {
   "cell_type": "code",
   "execution_count": 16,
   "metadata": {},
   "outputs": [
    {
     "name": "stdout",
     "output_type": "stream",
     "text": [
      "\n",
      "index: 1\n",
      "value: 3 \n",
      "\n",
      "index: 2\n",
      "value: 4\n"
     ]
    }
   ],
   "source": [
    "print(first_list.get_values())"
   ]
  },
  {
   "cell_type": "code",
   "execution_count": 17,
   "metadata": {},
   "outputs": [],
   "source": [
    "first_list.push(10)"
   ]
  },
  {
   "cell_type": "code",
   "execution_count": 18,
   "metadata": {},
   "outputs": [
    {
     "name": "stdout",
     "output_type": "stream",
     "text": [
      "\n",
      "index: 1\n",
      "value: 3 \n",
      "\n",
      "\n",
      "index: 2\n",
      "value: 4 \n",
      "\n",
      "index: 3\n",
      "value: 10\n"
     ]
    }
   ],
   "source": [
    "print(first_list.get_values())"
   ]
  },
  {
   "cell_type": "code",
   "execution_count": 19,
   "metadata": {},
   "outputs": [
    {
     "name": "stdout",
     "output_type": "stream",
     "text": [
      "3\n"
     ]
    }
   ],
   "source": [
    "print(first_list.pop())"
   ]
  },
  {
   "cell_type": "code",
   "execution_count": 20,
   "metadata": {},
   "outputs": [
    {
     "name": "stdout",
     "output_type": "stream",
     "text": [
      "\n",
      "index: 1\n",
      "value: 4 \n",
      "\n",
      "\n",
      "index: 2\n",
      "value: 10 \n",
      "\n",
      "\n"
     ]
    }
   ],
   "source": [
    "print(first_list.get_values())"
   ]
  },
  {
   "cell_type": "code",
   "execution_count": null,
   "metadata": {},
   "outputs": [],
   "source": []
  }
 ],
 "metadata": {
  "kernelspec": {
   "display_name": "Python 3",
   "language": "python",
   "name": "python3"
  },
  "language_info": {
   "codemirror_mode": {
    "name": "ipython",
    "version": 3
   },
   "file_extension": ".py",
   "mimetype": "text/x-python",
   "name": "python",
   "nbconvert_exporter": "python",
   "pygments_lexer": "ipython3",
   "version": "3.7.9"
  }
 },
 "nbformat": 4,
 "nbformat_minor": 4
}
